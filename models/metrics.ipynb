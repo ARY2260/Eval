{
 "cells": [
  {
   "cell_type": "code",
   "execution_count": 15,
   "metadata": {},
   "outputs": [],
   "source": [
    "import cohere\n",
    "from cohere.classify import Example\n",
    "import pandas as pd\n",
    "import numpy as np\n",
    "from sklearn.metrics.pairwise import cosine_similarity\n",
    "from annoy import AnnoyIndex\n",
    "import warnings\n",
    "from copy import deepcopy\n",
    "warnings.filterwarnings('ignore')\n",
    "pd.set_option('display.max_colwidth', None)"
   ]
  },
  {
   "cell_type": "code",
   "execution_count": 3,
   "metadata": {},
   "outputs": [],
   "source": [
    "import os\n",
    "from dotenv import load_dotenv\n",
    "\n",
    "load_dotenv()\n",
    "\n",
    "API_KEY = os.getenv('API_KEY')\n",
    "co = cohere.Client(API_KEY)"
   ]
  },
  {
   "cell_type": "markdown",
   "metadata": {},
   "source": [
    "Semantic Check"
   ]
  },
  {
   "cell_type": "code",
   "execution_count": 43,
   "metadata": {},
   "outputs": [],
   "source": [
    "# Get the embeddings\n",
    "def semantic_check(database, question_no, query):\n",
    "    embeds = co.embed(texts=database[database.q_category==question_no][['answer1','answer2','answer3','answer4','answer5']].values.flatten().tolist(),\n",
    "                      model='large',\n",
    "                      truncate='LEFT').embeddings\n",
    "                      \n",
    "    # Create the search index, pass the size of embedding\n",
    "    search_index = AnnoyIndex(len(embeds[0]), 'angular')\n",
    "    # Add all the vectors to the search index\n",
    "    for i in range(len(embeds)):\n",
    "        search_index.add_item(i, embeds[i])\n",
    "    search_index.build(10)  # 10 trees\n",
    "    search_index.save(f'temp.ann')\n",
    "\n",
    "    # process user input\n",
    "    user_input_embeds = co.embed(texts=[query],\n",
    "                                 model='large',\n",
    "                                 truncate='LEFT').embeddings\n",
    "    similar_item_ids = search_index.get_nns_by_vector(user_input_embeds[0], 10,\n",
    "                                                      include_distances=True)\n",
    "    # 1 is the question category\n",
    "    mean_distance = np.asarray(similar_item_ids[1]).mean()\n",
    "    return mean_distance"
   ]
  },
  {
   "cell_type": "markdown",
   "metadata": {},
   "source": [
    "Grammar Check"
   ]
  },
  {
   "cell_type": "markdown",
   "metadata": {},
   "source": [
    "> generative check"
   ]
  },
  {
   "cell_type": "code",
   "execution_count": 82,
   "metadata": {},
   "outputs": [],
   "source": [
    "def gen_grammar_check(query, trials = 3):\n",
    "    similarity_values= []\n",
    "    for i in range(trials):\n",
    "        query = query.lower()\n",
    "        response = co.generate(\n",
    "            model='xlarge',\n",
    "            prompt=f'This is a spell check generator that checks for grammar and corrects it. This also capitalizes the first letter of the sentence.\\n\\nSample: I would like a peice of pie.\\nCorrect: I would like a piece of the pie.\\n\\nSample: my coworker said he used a financial planner to help choose his stocks so he wouldn\\'t loose money.\\nCorrect: My coworker said he used a financial planner to help him choose his stocks so he wouldn\\'t lose money.\\n\\nSample: I ordered pizza, I also ordered garlic knots.\\nCorrect: I ordered pizza; I also ordered garlic knots.\\n\\nSample: i bought winning lottery ticket the corner store\\nCorrect: I bought my winning lottery ticket at the corner store.\\n\\nSample: try to reread your work to ensure you haven\\'t left out any small words\\nCorrect: Try to reread your work to ensure you haven\\'t left out any small words.\\n\\nSample: I went to the movies with my sister. We will see the new comedy about dancing dogs.\\nCorrect: I went to the movies with my sister. We saw the new comedy about dancing dogs.\\n\\nSample: the boy took their turn on the field.\\nCorrect: The boy took his turn on the field.\\n--\\nSample: I could of won the race if I trained more.\\nCorrect: I could have won the race if I had trained more.\\n--\\nSample: I went to the office, than i started my meeting.\\nCorrect: I went to the office, then I started my meeting.\\n--\\nSample: {query}\\nCorrect:',\n",
    "            max_tokens=100,\n",
    "            temperature=1.2,\n",
    "            k=0,\n",
    "            p=0.75,\n",
    "            frequency_penalty=0,\n",
    "            presence_penalty=0,\n",
    "            stop_sequences=[\"--\"],\n",
    "            return_likelihoods='NONE')\n",
    "\n",
    "        output = response.generations[0].text.rstrip(\"(\\n)--\")\n",
    "        output = output.lstrip(\" \")\n",
    "        output = output.lower()\n",
    "\n",
    "        embeds = co.embed(texts=[query, output],\n",
    "                          model='large',\n",
    "                          truncate='LEFT').embeddings\n",
    "\n",
    "        sim_value = cosine_similarity(\n",
    "            X=[embeds[0]], Y=[embeds[1]], dense_output=True)\n",
    "        similarity_values.append(sim_value)\n",
    "    similarity_score = max(similarity_values)\n",
    "    print(\"gen:\", similarity_values)\n",
    "    return 1 if similarity_score > 0.997 else 0\n"
   ]
  },
  {
   "cell_type": "markdown",
   "metadata": {},
   "source": [
    "> classification check"
   ]
  },
  {
   "cell_type": "code",
   "execution_count": 46,
   "metadata": {},
   "outputs": [],
   "source": [
    "def class_grammar_check(query):\n",
    "    response = co.classify(\n",
    "        model='cdb39157-6b82-4cb4-92c5-9e6037623d79-ft',\n",
    "        inputs=[f\"{query}\"])\n",
    "    return(float(response.classifications[0].prediction))\n"
   ]
  },
  {
   "cell_type": "markdown",
   "metadata": {},
   "source": [
    "Toxic behaviour check"
   ]
  },
  {
   "cell_type": "markdown",
   "metadata": {},
   "source": [
    "> default model for toxicity check"
   ]
  },
  {
   "cell_type": "code",
   "execution_count": 77,
   "metadata": {},
   "outputs": [],
   "source": [
    "examples = [\n",
    "    Example(\"you are hot trash\", \"Toxic\"),\n",
    "    Example(\"go to hell\", \"Toxic\"),\n",
    "    Example(\"get rekt moron\", \"Toxic\"),\n",
    "    Example(\"get a brain and use it\", \"Toxic\"),\n",
    "    Example(\"say what you mean, you jerk.\", \"Toxic\"),\n",
    "    Example(\"Are you really this stupid\", \"Toxic\"),\n",
    "    Example(\"I will honestly kill you\", \"Toxic\"),\n",
    "    Example(\"yo how are you\", \"Benign\"),\n",
    "    Example(\"I'm curious, how did that happen\", \"Benign\"),\n",
    "    Example(\"Try that again\", \"Benign\"),\n",
    "    Example(\"Hello everyone, excited to be here\", \"Benign\"),\n",
    "    Example(\"I think I saw it first\", \"Benign\"),\n",
    "    Example(\"That is an interesting point\", \"Benign\"),\n",
    "    Example(\"I love this\", \"Benign\"),\n",
    "    Example(\"We should try that sometime\", \"Benign\"),\n",
    "    Example(\"You should go for it\", \"Benign\"),\n",
    "    Example(\"people are not good.\", \"Benign\")\n",
    "]\n",
    "\n",
    "\n",
    "def class_toxic_check(query):\n",
    "    sentences = query.lower().rstrip('. ').split('.')\n",
    "    for i in sentences:\n",
    "        response = co.classify(\n",
    "            model='large',\n",
    "            inputs=[f\"{i}\"],\n",
    "            examples=examples)\n",
    "        if response.classifications[0].prediction == 'Toxic':\n",
    "            return 1.0\n",
    "    return 0.0\n"
   ]
  },
  {
   "cell_type": "markdown",
   "metadata": {},
   "source": [
    "> custom model for toxic check"
   ]
  },
  {
   "cell_type": "code",
   "execution_count": 72,
   "metadata": {},
   "outputs": [],
   "source": [
    "def custom_toxic_check(query):\n",
    "    sentences = query.lower().rstrip('. ').split('.')\n",
    "    for i in sentences:\n",
    "        response = co.classify(\n",
    "            model='8cec2377-0f7f-4557-81a4-7abc7dea3828-ft',\n",
    "            inputs=[f\"{i}\"])\n",
    "        if float(response.classifications[0].prediction) == 1.0:\n",
    "            return 1.0\n",
    "    return 0.0"
   ]
  },
  {
   "cell_type": "markdown",
   "metadata": {},
   "source": [
    "Text Duplication Check"
   ]
  },
  {
   "cell_type": "code",
   "execution_count": 9,
   "metadata": {},
   "outputs": [],
   "source": [
    "def Jaccard_Similarity(doc1, doc2): \n",
    "    \n",
    "    if(doc1 == '' and doc2 == ''):\n",
    "        return 0.0\n",
    "\n",
    "    # List the unique words in a document\n",
    "    words_doc1 = set(doc1.lower().split()) \n",
    "    words_doc2 = set(doc2.lower().split())\n",
    "    \n",
    "    # Find the intersection of words list of doc1 & doc2\n",
    "    intersection = words_doc1.intersection(words_doc2)\n",
    "\n",
    "    # Find the union of words list of doc1 & doc2\n",
    "    union = words_doc1.union(words_doc2)\n",
    "        \n",
    "    # Calculate Jaccard similarity score \n",
    "    # using length of intersection set divided by length of union set\n",
    "    return float(len(intersection)) / len(union)\n",
    "\n",
    "def duplication_check(query):\n",
    "    sentences = query.lower().rstrip('. ').split('.')\n",
    "    similarities = []\n",
    "    for i in range(len(sentences)):\n",
    "        rest = deepcopy(sentences)\n",
    "        rest.pop(i)\n",
    "        rest = \"\".join(rest)\n",
    "        score = Jaccard_Similarity(sentences[i], rest)\n",
    "        similarities.append(score)\n",
    "    duplication_ratio = sum(similarities)/(len(sentences)*0.08)\n",
    "\n",
    "    if duplication_ratio>2.0:\n",
    "        dup_score = 2\n",
    "    elif duplication_ratio>1.0:\n",
    "        dup_score = 1\n",
    "    else:\n",
    "        dup_score = 0\n",
    "    return dup_score"
   ]
  },
  {
   "cell_type": "markdown",
   "metadata": {},
   "source": [
    "#Testing"
   ]
  },
  {
   "cell_type": "code",
   "execution_count": 61,
   "metadata": {},
   "outputs": [],
   "source": [
    "query_correct_answer = \"The surface runoff frequently just disappears into sinkholes and swallow holes, where it flows as underground streams until emerging further downstream through a cave opening. Long, narrow to wide trenches known as valley sinks or uvalas emerge when sink holes and dolines connect together due to slumping of materials along their margins or due to roof collapse of caves.\"\n",
    "\n",
    "query_incorrect_answer = \"During the day the land heats up faster and become warmer than the sea. Therfre, over the land the air rises giving rise to a low pressure area, whereas the sea is relatively cool and the pressure over sea it relatively high. Thus, pressure gradient from sea to land is created and the wind blows from the sea to the land which is known sea breeze. In the night the reversal of condition takes place. The land loses heat faster and is cooler than the sea. The pressure gradient is from the land to the sea. This breeze is known land breeze. Dumbass! During the day the land heats up faster and become warmer than the sea.\""
   ]
  },
  {
   "cell_type": "code",
   "execution_count": 62,
   "metadata": {},
   "outputs": [
    {
     "data": {
      "text/html": [
       "<div>\n",
       "<style scoped>\n",
       "    .dataframe tbody tr th:only-of-type {\n",
       "        vertical-align: middle;\n",
       "    }\n",
       "\n",
       "    .dataframe tbody tr th {\n",
       "        vertical-align: top;\n",
       "    }\n",
       "\n",
       "    .dataframe thead th {\n",
       "        text-align: right;\n",
       "    }\n",
       "</style>\n",
       "<table border=\"1\" class=\"dataframe\">\n",
       "  <thead>\n",
       "    <tr style=\"text-align: right;\">\n",
       "      <th></th>\n",
       "      <th>q_category</th>\n",
       "      <th>question</th>\n",
       "      <th>answer1</th>\n",
       "      <th>answer2</th>\n",
       "      <th>answer3</th>\n",
       "      <th>answer4</th>\n",
       "      <th>answer5</th>\n",
       "    </tr>\n",
       "  </thead>\n",
       "  <tbody>\n",
       "    <tr>\n",
       "      <th>0</th>\n",
       "      <td>1</td>\n",
       "      <td>Explain the evolution of valley sinks or uvalas.</td>\n",
       "      <td>Quite often the surface run-off simply goes down swallow and sink holes and flow as underground streams and reemerge at a distance downstream through a cave opening. When sink holes and dolines join together because of slumping of materials along their margins or due to roof collapse of caves, long, narrow to wide trenches called valley sinks or uvalas form.</td>\n",
       "      <td>Generally, the surface run-off simply goes down swallow and sink holes and flow as underground streams and re-emerge at a distance downstream through a cave opening. When sink holes and dolines join together because of slumping of materials along their margins or due to roof collapse of caves, long, narrow to wide trenches called valley sinks or Uvalas form.</td>\n",
       "      <td>A sink hole is on opening more or less circular at the top and funnel-shaped towards the bottom with sizes varying in area from a few sq.m to a hectare and with depth from a less than half a metre to thirty metres or more. Quite often the surface run-off simply goes down swallow and sink holes and flow as underground streams and re-emerge at a distance downstream through a cave opening. A doline is a collapsed sink. When sinkholes and dolines join together because of slumping of materials along their margins or due to roof collapse of caves, long narrow to wide trenches called valley sinks or uvalas form.</td>\n",
       "      <td>Normally, the run-off goes down swallow and sink holes and drifts as underground streams and re-emerges at a distance downstream through a cave starting. When sink holes and dolines are merged due to slumping of substances alongside their margins or because of roof collapse of caves, trenches known as valley sinks or Uvalas are formed.</td>\n",
       "      <td>Valley sinks or uvulas are the same things. Valley sinks are erosional landforms of Karst topography. The following way valley sinks are evolved: In dolomite, limestone, or karst zones, the rocks are permeable and are made up of highly fused and broken rocks. In karst areas, small to medium-sized shallow pits are formed due to seepage of surface water, and these shallow pits are called sinkholes. Surface water from these sinkholes drains into the underground. The bottom of these sinkholes forms underground caves and sinkholes sometimes collapse and are commonly called collapse sinks or dolines. Typically, surface runoff runs down through sinkholes and flows underground, and at some distance through cave openings again to the surface. valley sinks or uvulas are developed when sinkholes and doline join together due to the collapse of cave ceilings.</td>\n",
       "    </tr>\n",
       "  </tbody>\n",
       "</table>\n",
       "</div>"
      ],
      "text/plain": [
       "   q_category                                          question  \\\n",
       "0           1  Explain the evolution of valley sinks or uvalas.   \n",
       "\n",
       "                                                                                                                                                                                                                                                                                                                                                                    answer1  \\\n",
       "0  Quite often the surface run-off simply goes down swallow and sink holes and flow as underground streams and reemerge at a distance downstream through a cave opening. When sink holes and dolines join together because of slumping of materials along their margins or due to roof collapse of caves, long, narrow to wide trenches called valley sinks or uvalas form.   \n",
       "\n",
       "                                                                                                                                                                                                                                                                                                                                                                    answer2  \\\n",
       "0  Generally, the surface run-off simply goes down swallow and sink holes and flow as underground streams and re-emerge at a distance downstream through a cave opening. When sink holes and dolines join together because of slumping of materials along their margins or due to roof collapse of caves, long, narrow to wide trenches called valley sinks or Uvalas form.   \n",
       "\n",
       "                                                                                                                                                                                                                                                                                                                                                                                                                                                                                                                                                                                                                                answer3  \\\n",
       "0  A sink hole is on opening more or less circular at the top and funnel-shaped towards the bottom with sizes varying in area from a few sq.m to a hectare and with depth from a less than half a metre to thirty metres or more. Quite often the surface run-off simply goes down swallow and sink holes and flow as underground streams and re-emerge at a distance downstream through a cave opening. A doline is a collapsed sink. When sinkholes and dolines join together because of slumping of materials along their margins or due to roof collapse of caves, long narrow to wide trenches called valley sinks or uvalas form.   \n",
       "\n",
       "                                                                                                                                                                                                                                                                                                                                             answer4  \\\n",
       "0  Normally, the run-off goes down swallow and sink holes and drifts as underground streams and re-emerges at a distance downstream through a cave starting. When sink holes and dolines are merged due to slumping of substances alongside their margins or because of roof collapse of caves, trenches known as valley sinks or Uvalas are formed.   \n",
       "\n",
       "                                                                                                                                                                                                                                                                                                                                                                                                                                                                                                                                                                                                                                                                                                                                                                                                                                                                                      answer5  \n",
       "0  Valley sinks or uvulas are the same things. Valley sinks are erosional landforms of Karst topography. The following way valley sinks are evolved: In dolomite, limestone, or karst zones, the rocks are permeable and are made up of highly fused and broken rocks. In karst areas, small to medium-sized shallow pits are formed due to seepage of surface water, and these shallow pits are called sinkholes. Surface water from these sinkholes drains into the underground. The bottom of these sinkholes forms underground caves and sinkholes sometimes collapse and are commonly called collapse sinks or dolines. Typically, surface runoff runs down through sinkholes and flows underground, and at some distance through cave openings again to the surface. valley sinks or uvulas are developed when sinkholes and doline join together due to the collapse of cave ceilings.  "
      ]
     },
     "execution_count": 62,
     "metadata": {},
     "output_type": "execute_result"
    }
   ],
   "source": [
    "database=pd.read_csv(\"Book1.csv\", delimiter=',')\n",
    "database.head(1)"
   ]
  },
  {
   "cell_type": "code",
   "execution_count": 63,
   "metadata": {},
   "outputs": [],
   "source": [
    "def answer_analysis(database, question_no, query):\n",
    "    semantic_check_score = semantic_check(database=database, question_no=question_no,query=query)\n",
    "    gen_grammar_check_score = gen_grammar_check(query)\n",
    "    class_grammar_check_score = class_grammar_check(query)\n",
    "    class_toxic_check_score = class_toxic_check(query)\n",
    "    custom_toxic_check_score = custom_toxic_check(query)\n",
    "    duplication_check_score = duplication_check(query)\n",
    "    print(f\"semantic check score (less than 1 for correct answer): {semantic_check_score}\")\n",
    "    print(f\"generative grammar check score (1 means correct): {gen_grammar_check_score}\")\n",
    "    print(f\"class-based grammar check score (1 means correct): {class_grammar_check_score}\")\n",
    "    print(f\"default model toxic check score (1 means toxic!): {class_toxic_check_score}\")\n",
    "    print(f\"custom model toxic check score (1 means toxic!): {custom_toxic_check_score}\")\n",
    "    print(f\"duplication check score (0=>no, 1=>detected, 2=>extreme)): {duplication_check_score}\")\n"
   ]
  },
  {
   "cell_type": "code",
   "execution_count": 83,
   "metadata": {},
   "outputs": [
    {
     "name": "stdout",
     "output_type": "stream",
     "text": [
      "gen: [array([[1.]]), array([[0.72403635]]), array([[1.]])]\n",
      "semantic check score (less than 1 for correct answer): 0.40302013158798217\n",
      "generative grammar check score (1 means correct): 1\n",
      "class-based grammar check score (1 means correct): 1.0\n",
      "default model toxic check score (1 means toxic!): 0.0\n",
      "custom model toxic check score (1 means toxic!): 0.0\n",
      "duplication check score (0=>no, 1=>detected, 2=>extreme)): 0\n"
     ]
    }
   ],
   "source": [
    "answer_analysis(database,1,query_correct_answer)"
   ]
  },
  {
   "cell_type": "code",
   "execution_count": 84,
   "metadata": {},
   "outputs": [
    {
     "name": "stdout",
     "output_type": "stream",
     "text": [
      "gen: [array([[0.96575878]]), array([[0.95720239]]), array([[0.96834543]])]\n",
      "semantic check score (less than 1 for correct answer): 1.357800054550171\n",
      "generative grammar check score (1 means correct): 0\n",
      "class-based grammar check score (1 means correct): 1.0\n",
      "default model toxic check score (1 means toxic!): 1.0\n",
      "custom model toxic check score (1 means toxic!): 1.0\n",
      "duplication check score (0=>no, 1=>detected, 2=>extreme)): 1\n"
     ]
    }
   ],
   "source": [
    "answer_analysis(database,1,query_incorrect_answer)"
   ]
  }
 ],
 "metadata": {
  "kernelspec": {
   "display_name": "Python 3.8.10 64-bit",
   "language": "python",
   "name": "python3"
  },
  "language_info": {
   "codemirror_mode": {
    "name": "ipython",
    "version": 3
   },
   "file_extension": ".py",
   "mimetype": "text/x-python",
   "name": "python",
   "nbconvert_exporter": "python",
   "pygments_lexer": "ipython3",
   "version": "3.8.10"
  },
  "orig_nbformat": 4,
  "vscode": {
   "interpreter": {
    "hash": "31f2aee4e71d21fbe5cf8b01ff0e069b9275f58929596ceb00d14d90e3e16cd6"
   }
  }
 },
 "nbformat": 4,
 "nbformat_minor": 2
}
